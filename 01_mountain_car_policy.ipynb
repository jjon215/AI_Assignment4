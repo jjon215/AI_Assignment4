{
 "cells": [
  {
   "cell_type": "code",
   "execution_count": 1,
   "metadata": {
    "collapsed": true
   },
   "outputs": [
    {
     "name": "stdout",
     "output_type": "stream",
     "text": [
      "\u001b[33mWARN: gym.spaces.Box autodetected dtype as <class 'numpy.float32'>. Please provide explicit dtype.\u001b[0m\nobservation= [-0.51179862  0.        ]\n"
     ]
    },
    {
     "name": "stdout",
     "output_type": "stream",
     "text": [
      "observation= [-0.51288711 -0.00108848]\nreward= -1.0\ndone= False\nobservation= [-0.51405591 -0.00116881]\nreward= -1.0\ndone= False\nobservation= [-0.51629628 -0.00224037]\nreward= -1.0\ndone= False\nobservation= [-0.51859141 -0.00229513]\nreward= -1.0\ndone= False\nobservation= [-0.5209241  -0.00233269]\nreward= -1.0\ndone= False\nobservation= [-0.52227685 -0.00135275]\nreward= -1.0\ndone= False\nobservation= [-0.52463951 -0.00236266]\nreward= -1.0\ndone= False\nobservation= [-0.52599436 -0.00135485]\nreward= -1.0\ndone= False\nobservation= [-0.52833125 -0.00233689]\nreward= -1.0\ndone= False\nobservation= [-0.53163265 -0.0033014 ]\nreward= -1.0\ndone= False\nobservation= [-0.53587379 -0.00424115]\nreward= -1.0\ndone= False\nobservation= [-0.5390229  -0.00314911]\nreward= -1.0\ndone= False\nobservation="
     ]
    },
    {
     "name": "stdout",
     "output_type": "stream",
     "text": [
      " [-0.54205637 -0.00303347]\nreward= -1.0\ndone= False\nobservation= [-0.54395147 -0.00189511]\nreward= -1.0\ndone= False\nobservation= [-0.54469402 -0.00074255]\nreward= -1.0\ndone= False\nobservation= [-0.54627847 -0.00158445]\nreward= -1.0\ndone= False\nobservation= [-0.54769295 -0.00141448]\nreward= -1.0\ndone= False\nobservation= [-0.54892688 -0.00123393]\nreward= -1.0\ndone= False\nobservation= [-0.54997103 -0.00104415]\nreward= -1.0\ndone= False\nobservation= [-0.5508176  -0.00084657]\nreward= -1.0\ndone= False\nobservation= [-0.55246025 -0.00164265]\nreward= -1.0\ndone= False\nobservation= [-0.55388671 -0.00142646]\nreward= -1.0\ndone= False\nobservation= [-0.55608633 -0.00219961]\nreward= -1.0\ndone= False\nobservation="
     ]
    },
    {
     "name": "stdout",
     "output_type": "stream",
     "text": [
      " [-0.55904267 -0.00295634]\nreward= -1.0\ndone= False\nobservation= [-0.56173369 -0.00269101]\nreward= -1.0\ndone= False\nobservation= [-0.56313931 -0.00140563]\nreward= -1.0\ndone= False\nobservation= [-0.56524908 -0.00210977]\nreward= -1.0\ndone= False\nobservation= [-0.56604728 -0.0007982 ]\nreward= -1.0\ndone= False\nobservation= [-0.56752798 -0.0014807 ]\nreward= -1.0\ndone= False\nobservation= [-0.56868016 -0.00115218]\nreward= -1.0\ndone= False\nobservation= [-0.56949526 -0.0008151 ]\nreward= -1.0\ndone= False\nobservation= [-5.68967229e-01  5.28035453e-04]\nreward= -1.0\ndone= False\nobservation= [-5.69099980e-01 -1.32750716e-04]\nreward= -1.0\ndone= False\nobservation= [-5.68892531e-01  2.07449511e-04]\nreward= -1.0\ndone= False\nobservation= [-5.68346422e-01  5.46108275e-04]"
     ]
    },
    {
     "name": "stdout",
     "output_type": "stream",
     "text": [
      "\nreward= -1.0\ndone= False\nobservation= [-0.56746571  0.00088071]\nreward= -1.0\ndone= False\nobservation= [-5.67256952e-01  2.08761733e-04]\nreward= -1.0\ndone= False\nobservation= [-0.56572169  0.00153526]\nreward= -1.0\ndone= False\nobservation= [-0.56487134  0.00085034]\nreward= -1.0\ndone= False\nobservation= [-0.56271225  0.0021591 ]\nreward= -1.0\ndone= False\nobservation= [-0.55926047  0.00345178]\nreward= -1.0\ndone= False\nobservation= [-0.55654174  0.00271873]\nreward= -1.0\ndone= False\nobservation= [-0.55257634  0.0039654 ]\nreward= -1.0\ndone= False\nobservation= [-0.54939388  0.00318246]\nreward= -1.0\ndone= False\nobservation= [-0.54701816  0.00237573]\nreward= -1.0\ndone= False\nobservation= [-0.54546693  0.00155123]\nreward= -1.0\ndone= False\nobservation="
     ]
    },
    {
     "name": "stdout",
     "output_type": "stream",
     "text": [
      " [-0.5437518   0.00171512]\nreward= -1.0\ndone= False\nobservation= [-0.54188563  0.00186618]\nreward= -1.0\ndone= False\nobservation= [-0.53888236  0.00300326]\nreward= -1.0\ndone= False\nobservation= [-0.53676452  0.00211785]\nreward= -1.0\ndone= False\nobservation= [-0.53554795  0.00121656]\nreward= -1.0\ndone= False\nobservation= [-0.53424179  0.00130616]\nreward= -1.0\ndone= False\nobservation= [-5.33855815e-01  3.85973485e-04]\nreward= -1.0\ndone= False\nobservation= [-5.33392926e-01  4.62889139e-04]\nreward= -1.0\ndone= False\nobservation= [-0.53185659  0.00153633]\nreward= -1.0\ndone= False\nobservation= [-0.52925833  0.00259826]\nreward= -1.0\ndone= False\nobservation= [-0.52761762  0.00164071]\nreward= -1.0\ndone= False\nobservation="
     ]
    },
    {
     "name": "stdout",
     "output_type": "stream",
     "text": [
      " [-0.52594678  0.00167085]\nreward= -1.0\ndone= False\nobservation= [-0.52425832  0.00168846]\nreward= -1.0\ndone= False\nobservation= [-0.52256491  0.0016934 ]\nreward= -1.0\ndone= False\nobservation= [-0.52087926  0.00168565]\nreward= -1.0\ndone= False\nobservation= [-0.51821401  0.00266525]\nreward= -1.0\ndone= False\nobservation= [-0.51458914  0.00362487]\nreward= -1.0\ndone= False\nobservation= [-0.51003184  0.00455731]\nreward= -1.0\ndone= False\nobservation= [-0.50657625  0.00345558]\nreward= -1.0\ndone= False\nobservation= [-0.50224829  0.00432797]\nreward= -1.0\ndone= False\nobservation= [-0.49808034  0.00416795]\nreward= -1.0\ndone= False\nobservation= [-0.49510359  0.00297675]\nreward= -1.0\ndone= False\nobservation= [-0.4923403   0.00276329]\nreward= -1.0\ndone= False\n"
     ]
    },
    {
     "name": "stdout",
     "output_type": "stream",
     "text": [
      "observation= [-0.4888111  0.0035292]\nreward= -1.0\ndone= False\nobservation= [-0.48654233  0.00226876]\nreward= -1.0\ndone= False\nobservation= [-0.48555092  0.00099141]\nreward= -1.0\ndone= False\nobservation= [-0.48384425  0.00170667]\nreward= -1.0\ndone= False\nobservation= [-4.83435025e-01  4.09220967e-04]\nreward= -1.0\ndone= False\nobservation= [-0.4843263  -0.00089128]\nreward= -1.0\ndone= False\nobservation= [-0.48651144 -0.00218514]\nreward= -1.0\ndone= False\nobservation= [-0.48997417 -0.00346272]\nreward= -1.0\ndone= False\nobservation= [-0.49468865 -0.00471448]\nreward= -1.0\ndone= False\nobservation= [-0.50061968 -0.00593103]\nreward= -1.0\ndone= False\nobservation= [-0.50572292 -0.00510324]\nreward= -1.0\ndone= False\nobservation= [-0.51196017 -0.00623725]\nreward= -1.0\ndone= False\nobservation= [-0.51728469 -0.00532452]\nreward= -1.0\ndone= False\n"
     ]
    },
    {
     "name": "stdout",
     "output_type": "stream",
     "text": [
      "observation= [-0.52265656 -0.00537187]\nreward= -1.0\ndone= False\nobservation= [-0.52803549 -0.00537894]\nreward= -1.0\ndone= False\nobservation= [-0.53338116 -0.00534566]\nreward= -1.0\ndone= False\nobservation= [-0.53965346 -0.00627231]\nreward= -1.0\ndone= False\nobservation= [-0.5458054  -0.00615194]\nreward= -1.0\ndone= False\nobservation= [-0.55179092 -0.00598552]\nreward= -1.0\ndone= False\nobservation= [-0.55756524 -0.00577433]\nreward= -1.0\ndone= False\nobservation= [-0.56408526 -0.00652002]\nreward= -1.0\ndone= False\nobservation= [-0.57030238 -0.00621712]\nreward= -1.0\ndone= False\nobservation= [-0.57517036 -0.00486798]\nreward= -1.0\ndone= False\nobservation= [-0.5806531  -0.00548274]\nreward= -1.0\ndone= False\nobservation= [-0.58571001 -0.00505692]\nreward= -1.0\ndone= False\nobservation= [-0.58930379 -0.00359377]\nreward= -1.0\ndone= False\n"
     ]
    },
    {
     "name": "stdout",
     "output_type": "stream",
     "text": [
      "observation= [-0.59340796 -0.00410417]\nreward= -1.0\ndone= False\nobservation= [-0.59599238 -0.00258442]\nreward= -1.0\ndone= False\nobservation= [-0.59903811 -0.00304573]\nreward= -1.0\ndone= False\nobservation= [-0.60152286 -0.00248475]\nreward= -1.0\ndone= False\nobservation= [-0.60242848 -0.00090563]\nreward= -1.0\ndone= False\n"
     ]
    }
   ],
   "source": [
    "\n",
    "import gym\n",
    "env = gym.make('MountainCar-v0')\n",
    "\n",
    "observation = env.reset()\n",
    "print(\"observation=\",observation)\n",
    "for t in range(100):\n",
    "    env.render()\n",
    "    action = env.action_space.sample()\n",
    "    observation, reward, done, info = env.step(action)\n",
    "    print(\"observation=\",observation)\n",
    "    print(\"reward=\",reward)\n",
    "    print(\"done=\",done)\n",
    "    if done:\n",
    "        print(\"Episode finished after {} timesteps\".format(t+1))\n",
    "        break"
   ]
  },
  {
   "cell_type": "code",
   "execution_count": null,
   "metadata": {},
   "outputs": [],
   "source": []
  }
 ],
 "metadata": {
  "kernelspec": {
   "display_name": "Python 2",
   "language": "python",
   "name": "python2"
  },
  "language_info": {
   "codemirror_mode": {
    "name": "ipython",
    "version": 2
   },
   "file_extension": ".py",
   "mimetype": "text/x-python",
   "name": "python",
   "nbconvert_exporter": "python",
   "pygments_lexer": "ipython2",
   "version": "2.7.6"
  }
 },
 "nbformat": 4,
 "nbformat_minor": 0
}
